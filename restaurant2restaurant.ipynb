{
 "cells": [
  {
   "cell_type": "code",
   "execution_count": 1,
   "id": "whole-progress",
   "metadata": {},
   "outputs": [],
   "source": [
    "import pandas as pd\n",
    "import matplotlib.pyplot as plt\n",
    "import seaborn as sns\n",
    "import matplotlib.colors as mcolors"
   ]
  },
  {
   "cell_type": "code",
   "execution_count": 2,
   "id": "chronic-functionality",
   "metadata": {},
   "outputs": [],
   "source": [
    "%matplotlib inline\n",
    "%config InlineBackend.figure_format = 'retina' # increase dpi of the pics"
   ]
  },
  {
   "cell_type": "code",
   "execution_count": 3,
   "id": "clinical-causing",
   "metadata": {},
   "outputs": [],
   "source": [
    "plt.style.use('seaborn')"
   ]
  },
  {
   "cell_type": "code",
   "execution_count": 4,
   "id": "authentic-seller",
   "metadata": {},
   "outputs": [
    {
     "data": {
      "text/html": [
       "<div>\n",
       "<style scoped>\n",
       "    .dataframe tbody tr th:only-of-type {\n",
       "        vertical-align: middle;\n",
       "    }\n",
       "\n",
       "    .dataframe tbody tr th {\n",
       "        vertical-align: top;\n",
       "    }\n",
       "\n",
       "    .dataframe thead th {\n",
       "        text-align: right;\n",
       "    }\n",
       "</style>\n",
       "<table border=\"1\" class=\"dataframe\">\n",
       "  <thead>\n",
       "    <tr style=\"text-align: right;\">\n",
       "      <th></th>\n",
       "      <th>User First Purchase Month</th>\n",
       "      <th>First Purchase Product Line</th>\n",
       "      <th>User ID</th>\n",
       "      <th>Purchase ID</th>\n",
       "      <th>Venue ID</th>\n",
       "    </tr>\n",
       "  </thead>\n",
       "  <tbody>\n",
       "    <tr>\n",
       "      <th>0</th>\n",
       "      <td>2020-05-01</td>\n",
       "      <td>Restaurant</td>\n",
       "      <td>57b48aece14f6d64522f8c5f</td>\n",
       "      <td>5ec6b23c96741b6db6266639</td>\n",
       "      <td>5d7a32a73b546fccd88a05e9</td>\n",
       "    </tr>\n",
       "    <tr>\n",
       "      <th>1</th>\n",
       "      <td>2020-05-01</td>\n",
       "      <td>Restaurant</td>\n",
       "      <td>59f4803cdf196473b7fc124d</td>\n",
       "      <td>5ec6be1e712a4248e67d2bf0</td>\n",
       "      <td>5cd16542c7420059cc10b792</td>\n",
       "    </tr>\n",
       "    <tr>\n",
       "      <th>2</th>\n",
       "      <td>2020-05-01</td>\n",
       "      <td>Restaurant</td>\n",
       "      <td>5a427fbbea63d5000aff0ade</td>\n",
       "      <td>5ec7f07674bbff7edcb5be0d</td>\n",
       "      <td>5e7bce9ae360062306b4a233</td>\n",
       "    </tr>\n",
       "    <tr>\n",
       "      <th>3</th>\n",
       "      <td>2020-05-01</td>\n",
       "      <td>Restaurant</td>\n",
       "      <td>5a8c70b58fac51000b2ca9d8</td>\n",
       "      <td>5eac48651db7a19612824809</td>\n",
       "      <td>5e6ce90a7455f89bbb00be37</td>\n",
       "    </tr>\n",
       "    <tr>\n",
       "      <th>4</th>\n",
       "      <td>2020-05-01</td>\n",
       "      <td>Restaurant</td>\n",
       "      <td>5a9efa9bab3442000c2ba457</td>\n",
       "      <td>5eca9ed670a4dafe5de07698</td>\n",
       "      <td>5ea18277857aaa1b337ee201</td>\n",
       "    </tr>\n",
       "  </tbody>\n",
       "</table>\n",
       "</div>"
      ],
      "text/plain": [
       "  User First Purchase Month First Purchase Product Line  \\\n",
       "0                2020-05-01                  Restaurant   \n",
       "1                2020-05-01                  Restaurant   \n",
       "2                2020-05-01                  Restaurant   \n",
       "3                2020-05-01                  Restaurant   \n",
       "4                2020-05-01                  Restaurant   \n",
       "\n",
       "                    User ID               Purchase ID  \\\n",
       "0  57b48aece14f6d64522f8c5f  5ec6b23c96741b6db6266639   \n",
       "1  59f4803cdf196473b7fc124d  5ec6be1e712a4248e67d2bf0   \n",
       "2  5a427fbbea63d5000aff0ade  5ec7f07674bbff7edcb5be0d   \n",
       "3  5a8c70b58fac51000b2ca9d8  5eac48651db7a19612824809   \n",
       "4  5a9efa9bab3442000c2ba457  5eca9ed670a4dafe5de07698   \n",
       "\n",
       "                   Venue ID  \n",
       "0  5d7a32a73b546fccd88a05e9  \n",
       "1  5cd16542c7420059cc10b792  \n",
       "2  5e7bce9ae360062306b4a233  \n",
       "3  5e6ce90a7455f89bbb00be37  \n",
       "4  5ea18277857aaa1b337ee201  "
      ]
     },
     "execution_count": 4,
     "metadata": {},
     "output_type": "execute_result"
    }
   ],
   "source": [
    "firsts = pd.read_csv('BI-Intern first_purchases.csv',\n",
    "                   parse_dates=['User First Purchase Month'],\n",
    "                   dayfirst=True, # Dates are in the format: D.M.YYYY (1.8.2020)\n",
    "                   infer_datetime_format=True)\n",
    "firsts.head()"
   ]
  },
  {
   "cell_type": "code",
   "execution_count": 5,
   "id": "absolute-english",
   "metadata": {},
   "outputs": [
    {
     "name": "stdout",
     "output_type": "stream",
     "text": [
      "<class 'pandas.core.frame.DataFrame'>\n",
      "RangeIndex: 71257 entries, 0 to 71256\n",
      "Data columns (total 5 columns):\n",
      " #   Column                       Non-Null Count  Dtype         \n",
      "---  ------                       --------------  -----         \n",
      " 0   User First Purchase Month    71257 non-null  datetime64[ns]\n",
      " 1   First Purchase Product Line  71257 non-null  object        \n",
      " 2   User ID                      71257 non-null  object        \n",
      " 3   Purchase ID                  71257 non-null  object        \n",
      " 4   Venue ID                     71257 non-null  object        \n",
      "dtypes: datetime64[ns](1), object(4)\n",
      "memory usage: 2.7+ MB\n"
     ]
    }
   ],
   "source": [
    "firsts.info()"
   ]
  },
  {
   "cell_type": "code",
   "execution_count": 6,
   "id": "thousand-recruitment",
   "metadata": {},
   "outputs": [
    {
     "data": {
      "text/html": [
       "<div>\n",
       "<style scoped>\n",
       "    .dataframe tbody tr th:only-of-type {\n",
       "        vertical-align: middle;\n",
       "    }\n",
       "\n",
       "    .dataframe tbody tr th {\n",
       "        vertical-align: top;\n",
       "    }\n",
       "\n",
       "    .dataframe thead th {\n",
       "        text-align: right;\n",
       "    }\n",
       "</style>\n",
       "<table border=\"1\" class=\"dataframe\">\n",
       "  <thead>\n",
       "    <tr style=\"text-align: right;\">\n",
       "      <th></th>\n",
       "      <th>count</th>\n",
       "      <th>unique</th>\n",
       "      <th>top</th>\n",
       "      <th>freq</th>\n",
       "    </tr>\n",
       "  </thead>\n",
       "  <tbody>\n",
       "    <tr>\n",
       "      <th>First Purchase Product Line</th>\n",
       "      <td>71257</td>\n",
       "      <td>2</td>\n",
       "      <td>Restaurant</td>\n",
       "      <td>70822</td>\n",
       "    </tr>\n",
       "    <tr>\n",
       "      <th>User ID</th>\n",
       "      <td>71257</td>\n",
       "      <td>71257</td>\n",
       "      <td>5f0aedc4df88112fa2a1f827</td>\n",
       "      <td>1</td>\n",
       "    </tr>\n",
       "    <tr>\n",
       "      <th>Purchase ID</th>\n",
       "      <td>71257</td>\n",
       "      <td>71257</td>\n",
       "      <td>5eb68bb00254d76433bd6001</td>\n",
       "      <td>1</td>\n",
       "    </tr>\n",
       "    <tr>\n",
       "      <th>Venue ID</th>\n",
       "      <td>71257</td>\n",
       "      <td>1407</td>\n",
       "      <td>5e7dc5c6d12956517345e7d0</td>\n",
       "      <td>1351</td>\n",
       "    </tr>\n",
       "  </tbody>\n",
       "</table>\n",
       "</div>"
      ],
      "text/plain": [
       "                             count unique                       top   freq\n",
       "First Purchase Product Line  71257      2                Restaurant  70822\n",
       "User ID                      71257  71257  5f0aedc4df88112fa2a1f827      1\n",
       "Purchase ID                  71257  71257  5eb68bb00254d76433bd6001      1\n",
       "Venue ID                     71257   1407  5e7dc5c6d12956517345e7d0   1351"
      ]
     },
     "execution_count": 6,
     "metadata": {},
     "output_type": "execute_result"
    }
   ],
   "source": [
    "firsts.describe(exclude=['datetime']).transpose()"
   ]
  },
  {
   "cell_type": "code",
   "execution_count": 7,
   "id": "portuguese-jenny",
   "metadata": {},
   "outputs": [
    {
     "data": {
      "text/html": [
       "<div>\n",
       "<style scoped>\n",
       "    .dataframe tbody tr th:only-of-type {\n",
       "        vertical-align: middle;\n",
       "    }\n",
       "\n",
       "    .dataframe tbody tr th {\n",
       "        vertical-align: top;\n",
       "    }\n",
       "\n",
       "    .dataframe thead th {\n",
       "        text-align: right;\n",
       "    }\n",
       "</style>\n",
       "<table border=\"1\" class=\"dataframe\">\n",
       "  <thead>\n",
       "    <tr style=\"text-align: right;\">\n",
       "      <th></th>\n",
       "      <th>Purchases Time Delivered</th>\n",
       "      <th>Product line</th>\n",
       "      <th>User ID</th>\n",
       "      <th>Purchase ID</th>\n",
       "      <th>Venue ID</th>\n",
       "    </tr>\n",
       "  </thead>\n",
       "  <tbody>\n",
       "    <tr>\n",
       "      <th>0</th>\n",
       "      <td>2020-08-01</td>\n",
       "      <td>Restaurant</td>\n",
       "      <td>55080d6585f6661a3b37f7a5</td>\n",
       "      <td>5f3d81ef6cce0eeb05225f98</td>\n",
       "      <td>5e8b2c8be050b99f26647804</td>\n",
       "    </tr>\n",
       "    <tr>\n",
       "      <th>1</th>\n",
       "      <td>2020-08-01</td>\n",
       "      <td>Restaurant</td>\n",
       "      <td>55080d6585f6661a3b37f7a5</td>\n",
       "      <td>5f3c11f5a90667e766b04c19</td>\n",
       "      <td>5e8b2c8be050b99f26647804</td>\n",
       "    </tr>\n",
       "    <tr>\n",
       "      <th>2</th>\n",
       "      <td>2020-07-01</td>\n",
       "      <td>Retail store</td>\n",
       "      <td>556202537f84a43ac29ec7cb</td>\n",
       "      <td>5f0aec594c3cbeb4049ea36a</td>\n",
       "      <td>5ec2ab4401f812138e435c89</td>\n",
       "    </tr>\n",
       "    <tr>\n",
       "      <th>3</th>\n",
       "      <td>2020-07-01</td>\n",
       "      <td>Retail store</td>\n",
       "      <td>556202537f84a43ac29ec7cb</td>\n",
       "      <td>5f184a3c88046da058c5ed1d</td>\n",
       "      <td>5ec2ab4401f812138e435c89</td>\n",
       "    </tr>\n",
       "    <tr>\n",
       "      <th>4</th>\n",
       "      <td>2020-05-01</td>\n",
       "      <td>Restaurant</td>\n",
       "      <td>57b48aece14f6d64522f8c5f</td>\n",
       "      <td>5ecf98f34d3d68dc996dad7a</td>\n",
       "      <td>5cb4425ae93cce000d20612f</td>\n",
       "    </tr>\n",
       "  </tbody>\n",
       "</table>\n",
       "</div>"
      ],
      "text/plain": [
       "  Purchases Time Delivered  Product line                   User ID  \\\n",
       "0               2020-08-01    Restaurant  55080d6585f6661a3b37f7a5   \n",
       "1               2020-08-01    Restaurant  55080d6585f6661a3b37f7a5   \n",
       "2               2020-07-01  Retail store  556202537f84a43ac29ec7cb   \n",
       "3               2020-07-01  Retail store  556202537f84a43ac29ec7cb   \n",
       "4               2020-05-01    Restaurant  57b48aece14f6d64522f8c5f   \n",
       "\n",
       "                Purchase ID                  Venue ID  \n",
       "0  5f3d81ef6cce0eeb05225f98  5e8b2c8be050b99f26647804  \n",
       "1  5f3c11f5a90667e766b04c19  5e8b2c8be050b99f26647804  \n",
       "2  5f0aec594c3cbeb4049ea36a  5ec2ab4401f812138e435c89  \n",
       "3  5f184a3c88046da058c5ed1d  5ec2ab4401f812138e435c89  \n",
       "4  5ecf98f34d3d68dc996dad7a  5cb4425ae93cce000d20612f  "
      ]
     },
     "execution_count": 7,
     "metadata": {},
     "output_type": "execute_result"
    }
   ],
   "source": [
    "purchases = pd.read_csv('BI-Intern purchases.csv',\n",
    "                   parse_dates=['Purchases Time Delivered'],\n",
    "                   dayfirst=True,\n",
    "                   infer_datetime_format=True)\n",
    "\n",
    "purchases.head()"
   ]
  },
  {
   "cell_type": "code",
   "execution_count": 8,
   "id": "anonymous-cornwall",
   "metadata": {},
   "outputs": [
    {
     "name": "stdout",
     "output_type": "stream",
     "text": [
      "<class 'pandas.core.frame.DataFrame'>\n",
      "RangeIndex: 298714 entries, 0 to 298713\n",
      "Data columns (total 5 columns):\n",
      " #   Column                    Non-Null Count   Dtype         \n",
      "---  ------                    --------------   -----         \n",
      " 0   Purchases Time Delivered  298714 non-null  datetime64[ns]\n",
      " 1   Product line              298714 non-null  object        \n",
      " 2   User ID                   298714 non-null  object        \n",
      " 3   Purchase ID               298714 non-null  object        \n",
      " 4   Venue ID                  298714 non-null  object        \n",
      "dtypes: datetime64[ns](1), object(4)\n",
      "memory usage: 11.4+ MB\n"
     ]
    }
   ],
   "source": [
    "purchases.info()"
   ]
  },
  {
   "cell_type": "code",
   "execution_count": 9,
   "id": "prerequisite-continent",
   "metadata": {},
   "outputs": [
    {
     "data": {
      "text/html": [
       "<div>\n",
       "<style scoped>\n",
       "    .dataframe tbody tr th:only-of-type {\n",
       "        vertical-align: middle;\n",
       "    }\n",
       "\n",
       "    .dataframe tbody tr th {\n",
       "        vertical-align: top;\n",
       "    }\n",
       "\n",
       "    .dataframe thead th {\n",
       "        text-align: right;\n",
       "    }\n",
       "</style>\n",
       "<table border=\"1\" class=\"dataframe\">\n",
       "  <thead>\n",
       "    <tr style=\"text-align: right;\">\n",
       "      <th></th>\n",
       "      <th>count</th>\n",
       "      <th>unique</th>\n",
       "      <th>top</th>\n",
       "      <th>freq</th>\n",
       "    </tr>\n",
       "  </thead>\n",
       "  <tbody>\n",
       "    <tr>\n",
       "      <th>Product line</th>\n",
       "      <td>298714</td>\n",
       "      <td>2</td>\n",
       "      <td>Restaurant</td>\n",
       "      <td>287921</td>\n",
       "    </tr>\n",
       "    <tr>\n",
       "      <th>User ID</th>\n",
       "      <td>298714</td>\n",
       "      <td>74568</td>\n",
       "      <td>5ec04f84d2868704abb52f98</td>\n",
       "      <td>205</td>\n",
       "    </tr>\n",
       "    <tr>\n",
       "      <th>Purchase ID</th>\n",
       "      <td>298714</td>\n",
       "      <td>298714</td>\n",
       "      <td>5eb68bb00254d76433bd6001</td>\n",
       "      <td>1</td>\n",
       "    </tr>\n",
       "    <tr>\n",
       "      <th>Venue ID</th>\n",
       "      <td>298714</td>\n",
       "      <td>1503</td>\n",
       "      <td>5e77a370fee9ef1ba62d6454</td>\n",
       "      <td>4602</td>\n",
       "    </tr>\n",
       "  </tbody>\n",
       "</table>\n",
       "</div>"
      ],
      "text/plain": [
       "               count  unique                       top    freq\n",
       "Product line  298714       2                Restaurant  287921\n",
       "User ID       298714   74568  5ec04f84d2868704abb52f98     205\n",
       "Purchase ID   298714  298714  5eb68bb00254d76433bd6001       1\n",
       "Venue ID      298714    1503  5e77a370fee9ef1ba62d6454    4602"
      ]
     },
     "execution_count": 9,
     "metadata": {},
     "output_type": "execute_result"
    }
   ],
   "source": [
    "purchases.describe(exclude=['datetime']).transpose()"
   ]
  },
  {
   "cell_type": "code",
   "execution_count": 10,
   "id": "legislative-laptop",
   "metadata": {},
   "outputs": [],
   "source": [
    "firsts['month_normalized'] = firsts['User First Purchase Month'].dt.to_period('M')\n",
    "purchases['month_normalized'] = purchases['Purchases Time Delivered'].dt.to_period('M')"
   ]
  },
  {
   "cell_type": "code",
   "execution_count": 11,
   "id": "interpreted-murray",
   "metadata": {},
   "outputs": [],
   "source": [
    "firsts_filtered = firsts[firsts['First Purchase Product Line'] == 'Restaurant']"
   ]
  },
  {
   "cell_type": "code",
   "execution_count": 12,
   "id": "tired-cologne",
   "metadata": {},
   "outputs": [],
   "source": [
    "purchases_filtered = purchases[purchases['User ID'].isin(firsts_filtered['User ID'])]"
   ]
  },
  {
   "cell_type": "code",
   "execution_count": 13,
   "id": "engaging-reply",
   "metadata": {},
   "outputs": [],
   "source": [
    "purchases_filtered = purchases_filtered[purchases_filtered['Product line'] == 'Restaurant']"
   ]
  },
  {
   "cell_type": "code",
   "execution_count": 14,
   "id": "alike-attention",
   "metadata": {},
   "outputs": [
    {
     "data": {
      "text/html": [
       "<div>\n",
       "<style scoped>\n",
       "    .dataframe tbody tr th:only-of-type {\n",
       "        vertical-align: middle;\n",
       "    }\n",
       "\n",
       "    .dataframe tbody tr th {\n",
       "        vertical-align: top;\n",
       "    }\n",
       "\n",
       "    .dataframe thead th {\n",
       "        text-align: right;\n",
       "    }\n",
       "</style>\n",
       "<table border=\"1\" class=\"dataframe\">\n",
       "  <thead>\n",
       "    <tr style=\"text-align: right;\">\n",
       "      <th></th>\n",
       "      <th>count</th>\n",
       "      <th>unique</th>\n",
       "      <th>top</th>\n",
       "      <th>freq</th>\n",
       "    </tr>\n",
       "  </thead>\n",
       "  <tbody>\n",
       "    <tr>\n",
       "      <th>Product line</th>\n",
       "      <td>283750</td>\n",
       "      <td>1</td>\n",
       "      <td>Restaurant</td>\n",
       "      <td>283750</td>\n",
       "    </tr>\n",
       "    <tr>\n",
       "      <th>User ID</th>\n",
       "      <td>283750</td>\n",
       "      <td>70822</td>\n",
       "      <td>5ec04f84d2868704abb52f98</td>\n",
       "      <td>204</td>\n",
       "    </tr>\n",
       "    <tr>\n",
       "      <th>Purchase ID</th>\n",
       "      <td>283750</td>\n",
       "      <td>283750</td>\n",
       "      <td>5eb68bb00254d76433bd6001</td>\n",
       "      <td>1</td>\n",
       "    </tr>\n",
       "    <tr>\n",
       "      <th>Venue ID</th>\n",
       "      <td>283750</td>\n",
       "      <td>1445</td>\n",
       "      <td>5e77a370fee9ef1ba62d6454</td>\n",
       "      <td>4571</td>\n",
       "    </tr>\n",
       "    <tr>\n",
       "      <th>month_normalized</th>\n",
       "      <td>283750</td>\n",
       "      <td>6</td>\n",
       "      <td>2020-09</td>\n",
       "      <td>76935</td>\n",
       "    </tr>\n",
       "  </tbody>\n",
       "</table>\n",
       "</div>"
      ],
      "text/plain": [
       "                   count  unique                       top    freq\n",
       "Product line      283750       1                Restaurant  283750\n",
       "User ID           283750   70822  5ec04f84d2868704abb52f98     204\n",
       "Purchase ID       283750  283750  5eb68bb00254d76433bd6001       1\n",
       "Venue ID          283750    1445  5e77a370fee9ef1ba62d6454    4571\n",
       "month_normalized  283750       6                   2020-09   76935"
      ]
     },
     "execution_count": 14,
     "metadata": {},
     "output_type": "execute_result"
    }
   ],
   "source": [
    "purchases_filtered.describe(exclude=['datetime']).transpose()"
   ]
  },
  {
   "cell_type": "code",
   "execution_count": 15,
   "id": "involved-shadow",
   "metadata": {},
   "outputs": [],
   "source": [
    "# Attach first purchase month to purchases as \"month_normalized_cohort\" column\n",
    "purchases_filtered = pd.merge(purchases_filtered, firsts_filtered[['User ID', 'month_normalized']], on='User ID', how=\"left\", suffixes=('', '_cohort'))"
   ]
  },
  {
   "cell_type": "code",
   "execution_count": 16,
   "id": "ancient-portrait",
   "metadata": {},
   "outputs": [
    {
     "name": "stdout",
     "output_type": "stream",
     "text": [
      "<class 'pandas.core.frame.DataFrame'>\n",
      "Int64Index: 283750 entries, 0 to 283749\n",
      "Data columns (total 7 columns):\n",
      " #   Column                    Non-Null Count   Dtype         \n",
      "---  ------                    --------------   -----         \n",
      " 0   Purchases Time Delivered  283750 non-null  datetime64[ns]\n",
      " 1   Product line              283750 non-null  object        \n",
      " 2   User ID                   283750 non-null  object        \n",
      " 3   Purchase ID               283750 non-null  object        \n",
      " 4   Venue ID                  283750 non-null  object        \n",
      " 5   month_normalized          283750 non-null  period[M]     \n",
      " 6   month_normalized_cohort   283750 non-null  period[M]     \n",
      "dtypes: datetime64[ns](1), object(4), period[M](2)\n",
      "memory usage: 17.3+ MB\n"
     ]
    }
   ],
   "source": [
    "purchases_filtered.info()"
   ]
  },
  {
   "cell_type": "code",
   "execution_count": 17,
   "id": "registered-clinton",
   "metadata": {},
   "outputs": [
    {
     "data": {
      "text/html": [
       "<div>\n",
       "<style scoped>\n",
       "    .dataframe tbody tr th:only-of-type {\n",
       "        vertical-align: middle;\n",
       "    }\n",
       "\n",
       "    .dataframe tbody tr th {\n",
       "        vertical-align: top;\n",
       "    }\n",
       "\n",
       "    .dataframe thead th {\n",
       "        text-align: right;\n",
       "    }\n",
       "</style>\n",
       "<table border=\"1\" class=\"dataframe\">\n",
       "  <thead>\n",
       "    <tr style=\"text-align: right;\">\n",
       "      <th></th>\n",
       "      <th>count</th>\n",
       "      <th>unique</th>\n",
       "      <th>top</th>\n",
       "      <th>freq</th>\n",
       "    </tr>\n",
       "  </thead>\n",
       "  <tbody>\n",
       "    <tr>\n",
       "      <th>Product line</th>\n",
       "      <td>283750</td>\n",
       "      <td>1</td>\n",
       "      <td>Restaurant</td>\n",
       "      <td>283750</td>\n",
       "    </tr>\n",
       "    <tr>\n",
       "      <th>User ID</th>\n",
       "      <td>283750</td>\n",
       "      <td>70822</td>\n",
       "      <td>5ec04f84d2868704abb52f98</td>\n",
       "      <td>204</td>\n",
       "    </tr>\n",
       "    <tr>\n",
       "      <th>Purchase ID</th>\n",
       "      <td>283750</td>\n",
       "      <td>283750</td>\n",
       "      <td>5eb68bb00254d76433bd6001</td>\n",
       "      <td>1</td>\n",
       "    </tr>\n",
       "    <tr>\n",
       "      <th>Venue ID</th>\n",
       "      <td>283750</td>\n",
       "      <td>1445</td>\n",
       "      <td>5e77a370fee9ef1ba62d6454</td>\n",
       "      <td>4571</td>\n",
       "    </tr>\n",
       "    <tr>\n",
       "      <th>month_normalized</th>\n",
       "      <td>283750</td>\n",
       "      <td>6</td>\n",
       "      <td>2020-09</td>\n",
       "      <td>76935</td>\n",
       "    </tr>\n",
       "    <tr>\n",
       "      <th>month_normalized_cohort</th>\n",
       "      <td>283750</td>\n",
       "      <td>6</td>\n",
       "      <td>2020-05</td>\n",
       "      <td>101393</td>\n",
       "    </tr>\n",
       "  </tbody>\n",
       "</table>\n",
       "</div>"
      ],
      "text/plain": [
       "                          count  unique                       top    freq\n",
       "Product line             283750       1                Restaurant  283750\n",
       "User ID                  283750   70822  5ec04f84d2868704abb52f98     204\n",
       "Purchase ID              283750  283750  5eb68bb00254d76433bd6001       1\n",
       "Venue ID                 283750    1445  5e77a370fee9ef1ba62d6454    4571\n",
       "month_normalized         283750       6                   2020-09   76935\n",
       "month_normalized_cohort  283750       6                   2020-05  101393"
      ]
     },
     "execution_count": 17,
     "metadata": {},
     "output_type": "execute_result"
    }
   ],
   "source": [
    "purchases_filtered.describe(exclude=['datetime']).transpose()"
   ]
  },
  {
   "cell_type": "code",
   "execution_count": 18,
   "id": "offshore-warehouse",
   "metadata": {},
   "outputs": [],
   "source": [
    "cohort = purchases_filtered.groupby(['month_normalized_cohort', 'month_normalized']) \\\n",
    "              .agg(n_customers=('User ID', 'nunique')) \\\n",
    "              .reset_index(drop=False)\n",
    "# diff is number of months between since the first purchase (month_normalized - month_normalized_cohort)\n",
    "# where month_normalized_cohort is the month of the first purchase\n",
    "cohort['diff'] = (cohort.month_normalized-cohort.month_normalized_cohort).apply(lambda x: x.n)"
   ]
  },
  {
   "cell_type": "code",
   "execution_count": 19,
   "id": "matched-subdivision",
   "metadata": {},
   "outputs": [],
   "source": [
    "pivot = cohort.pivot_table(index = 'month_normalized_cohort',\n",
    "                                     columns = 'diff',\n",
    "                                     values = 'n_customers')"
   ]
  },
  {
   "cell_type": "code",
   "execution_count": 20,
   "id": "cardiovascular-parcel",
   "metadata": {},
   "outputs": [
    {
     "data": {
      "text/html": [
       "<div>\n",
       "<style scoped>\n",
       "    .dataframe tbody tr th:only-of-type {\n",
       "        vertical-align: middle;\n",
       "    }\n",
       "\n",
       "    .dataframe tbody tr th {\n",
       "        vertical-align: top;\n",
       "    }\n",
       "\n",
       "    .dataframe thead th {\n",
       "        text-align: right;\n",
       "    }\n",
       "</style>\n",
       "<table border=\"1\" class=\"dataframe\">\n",
       "  <thead>\n",
       "    <tr style=\"text-align: right;\">\n",
       "      <th>diff</th>\n",
       "      <th>0</th>\n",
       "      <th>1</th>\n",
       "      <th>2</th>\n",
       "      <th>3</th>\n",
       "      <th>4</th>\n",
       "      <th>5</th>\n",
       "    </tr>\n",
       "    <tr>\n",
       "      <th>month_normalized_cohort</th>\n",
       "      <th></th>\n",
       "      <th></th>\n",
       "      <th></th>\n",
       "      <th></th>\n",
       "      <th></th>\n",
       "      <th></th>\n",
       "    </tr>\n",
       "  </thead>\n",
       "  <tbody>\n",
       "    <tr>\n",
       "      <th>2020-05</th>\n",
       "      <td>16784.0</td>\n",
       "      <td>6047.0</td>\n",
       "      <td>4711.0</td>\n",
       "      <td>4431.0</td>\n",
       "      <td>4701.0</td>\n",
       "      <td>3406.0</td>\n",
       "    </tr>\n",
       "    <tr>\n",
       "      <th>2020-06</th>\n",
       "      <td>11236.0</td>\n",
       "      <td>3920.0</td>\n",
       "      <td>3346.0</td>\n",
       "      <td>3289.0</td>\n",
       "      <td>2283.0</td>\n",
       "      <td>NaN</td>\n",
       "    </tr>\n",
       "    <tr>\n",
       "      <th>2020-07</th>\n",
       "      <td>9063.0</td>\n",
       "      <td>3005.0</td>\n",
       "      <td>2701.0</td>\n",
       "      <td>1891.0</td>\n",
       "      <td>NaN</td>\n",
       "      <td>NaN</td>\n",
       "    </tr>\n",
       "    <tr>\n",
       "      <th>2020-08</th>\n",
       "      <td>9836.0</td>\n",
       "      <td>3397.0</td>\n",
       "      <td>2179.0</td>\n",
       "      <td>NaN</td>\n",
       "      <td>NaN</td>\n",
       "      <td>NaN</td>\n",
       "    </tr>\n",
       "    <tr>\n",
       "      <th>2020-09</th>\n",
       "      <td>16115.0</td>\n",
       "      <td>4599.0</td>\n",
       "      <td>NaN</td>\n",
       "      <td>NaN</td>\n",
       "      <td>NaN</td>\n",
       "      <td>NaN</td>\n",
       "    </tr>\n",
       "    <tr>\n",
       "      <th>2020-10</th>\n",
       "      <td>7788.0</td>\n",
       "      <td>NaN</td>\n",
       "      <td>NaN</td>\n",
       "      <td>NaN</td>\n",
       "      <td>NaN</td>\n",
       "      <td>NaN</td>\n",
       "    </tr>\n",
       "  </tbody>\n",
       "</table>\n",
       "</div>"
      ],
      "text/plain": [
       "diff                           0       1       2       3       4       5\n",
       "month_normalized_cohort                                                 \n",
       "2020-05                  16784.0  6047.0  4711.0  4431.0  4701.0  3406.0\n",
       "2020-06                  11236.0  3920.0  3346.0  3289.0  2283.0     NaN\n",
       "2020-07                   9063.0  3005.0  2701.0  1891.0     NaN     NaN\n",
       "2020-08                   9836.0  3397.0  2179.0     NaN     NaN     NaN\n",
       "2020-09                  16115.0  4599.0     NaN     NaN     NaN     NaN\n",
       "2020-10                   7788.0     NaN     NaN     NaN     NaN     NaN"
      ]
     },
     "execution_count": 20,
     "metadata": {},
     "output_type": "execute_result"
    }
   ],
   "source": [
    "pivot"
   ]
  },
  {
   "cell_type": "code",
   "execution_count": 21,
   "id": "adopted-retro",
   "metadata": {},
   "outputs": [],
   "source": [
    "# Devide each column by the zero-month-column to normalize data\n",
    "first_month_customers = pivot.iloc[:,0]\n",
    "retention_matrix = pivot.divide(first_month_customers, axis = 0)"
   ]
  },
  {
   "cell_type": "code",
   "execution_count": 22,
   "id": "treated-rescue",
   "metadata": {},
   "outputs": [
    {
     "data": {
      "image/png": "[encoded data removed]",
      "text/plain": [
       "<Figure size 864x576 with 3 Axes>"
      ]
     },
     "metadata": {
      "image/png": {
       "height": 568,
       "width": 793
      }
     },
     "output_type": "display_data"
    }
   ],
   "source": [
    "# plot the retention matrix\n",
    "with sns.axes_style(\"white\"):\n",
    "    fig, ax = plt.subplots(1, 2, figsize=(12, 8), sharey=True, gridspec_kw={'width_ratios': [1, 11]})\n",
    "\n",
    "    # retention matrix\n",
    "    sns.heatmap(retention_matrix, \n",
    "                mask=retention_matrix.isnull(), \n",
    "                annot=True, \n",
    "                fmt='.0%', \n",
    "                cmap='Purples',\n",
    "                ax=ax[1])\n",
    "    ax[1].set_title('Monthly Cohorts: Restaurants Customers Retention (First Purchase: Restaurant)', fontsize=16)\n",
    "    ax[1].set(xlabel='# months since the first purchase',\n",
    "              ylabel='')\n",
    "\n",
    "    # cohort size    \n",
    "    cohort_size_df = pd.DataFrame(first_month_customers).rename(columns={0: '# Customers'})\n",
    "    cohort_size_df.index.rename('month', inplace=True)\n",
    "    white_cmap = mcolors.ListedColormap(['white'])\n",
    "    sns.heatmap(cohort_size_df, \n",
    "                annot=True, \n",
    "                cbar=False, \n",
    "                fmt='g', \n",
    "                cmap=white_cmap, \n",
    "                ax=ax[0])\n",
    "\n",
    "    fig.tight_layout()\n",
    "    fig.savefig('Restaurants Customers Retention (First Purchase: Restaurant).png', dpi=300)"
   ]
  },
  {
   "cell_type": "code",
   "execution_count": null,
   "id": "communist-aircraft",
   "metadata": {},
   "outputs": [],
   "source": []
  }
 ],
 "metadata": {
  "kernelspec": {
   "display_name": "Python 3",
   "language": "python",
   "name": "python3"
  },
  "language_info": {
   "codemirror_mode": {
    "name": "ipython",
    "version": 3
   },
   "file_extension": ".py",
   "mimetype": "text/x-python",
   "name": "python",
   "nbconvert_exporter": "python",
   "pygments_lexer": "ipython3",
   "version": "3.8.6"
  }
 },
 "nbformat": 4,
 "nbformat_minor": 5
}
